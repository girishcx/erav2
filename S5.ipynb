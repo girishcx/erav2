{
 "cells": [
  {
   "cell_type": "markdown",
   "metadata": {},
   "source": [
    "<a href=\"https://colab.research.google.com/github/girishcx/erav2/blob/master/S5.ipynb\" target=\"_parent\"><img src=\"https://colab.research.google.com/assets/colab-badge.svg\" alt=\"Open In Colab\"/></a>"
   ]
  },
  {
   "cell_type": "code",
   "execution_count": null,
   "metadata": {},
   "outputs": [],
   "source": [
    "import torch\n",
    "from models import Net\n",
    "from utils import get_data_transforms, get_data_loaders, get_optimizer, get_criterion, train, test\n",
    "\n",
    "device = torch.device('cuda' if torch.cuda.is_available() else 'cpu')\n",
    "\n",
    "train_transforms, test_transforms = get_data_transforms()\n",
    "train_loader, test_loader = get_data_loaders(512, train_transforms, test_transforms)\n",
    "\n",
    "model = Net().to(device)\n",
    "optimizer, scheduler = get_optimizer(model)\n",
    "criterion = get_criterion()\n",
    "\n",
    "num_epochs = 20\n",
    "\n",
    "for epoch in range(1, num_epochs+1):\n",
    "    print(f'Epoch {epoch}')\n",
    "    train_loss, train_acc = train(model, device, train_loader, optimizer, criterion)\n",
    "    test_loss, test_acc = test(model, device, test_loader, criterion)\n",
    "    scheduler.step()\n",
    "\n",
    "    print(f'Train Loss: {train_loss:.4f}, Train Acc: {train_acc:.4f}')\n",
    "    print(f'Test Loss: {test_loss:.4f}, Test Acc: {test_acc:.4f}')"
   ]
  },
  {
   "cell_type": "markdown",
   "metadata": {},
   "source": []
  },
  {
   "cell_type": "code",
   "execution_count": null,
   "metadata": {},
   "outputs": [],
   "source": []
  }
 ],
 "metadata": {
  "language_info": {
   "name": "python"
  }
 },
 "nbformat": 4,
 "nbformat_minor": 2
}
