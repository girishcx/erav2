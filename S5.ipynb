{
  "cells": [
    {
      "cell_type": "markdown",
      "metadata": {
        "id": "view-in-github",
        "colab_type": "text"
      },
      "source": [
        "<a href=\"https://colab.research.google.com/github/girishcx/erav2/blob/master/S5.ipynb\" target=\"_parent\"><img src=\"https://colab.research.google.com/assets/colab-badge.svg\" alt=\"Open In Colab\"/></a>"
      ]
    },
    {
      "cell_type": "markdown",
      "metadata": {
        "id": "Vl6dXh29gCha"
      },
      "source": [
        "<a href=\"https://colab.research.google.com/github/girishcx/erav2/blob/master/S5.ipynb\" target=\"_parent\"><img src=\"https://colab.research.google.com/assets/colab-badge.svg\" alt=\"Open In Colab\"/></a>"
      ]
    },
    {
      "cell_type": "markdown",
      "source": [
        "This notebook is main script that uses the functions and classes defined in the other two files. The training and test losses and accuracies are printed at the end of each epoch."
      ],
      "metadata": {
        "id": "jEXdP4G_pFrN"
      }
    },
    {
      "cell_type": "code",
      "source": [
        "import torch\n",
        "from models import Net\n",
        "from utils import get_data_transforms, get_data_loaders, get_optimizer, get_criterion, train, test\n"
      ],
      "metadata": {
        "id": "2fyRxefqpaEg"
      },
      "execution_count": 2,
      "outputs": []
    },
    {
      "cell_type": "markdown",
      "source": [
        "Get training and testing data transofmed from utils"
      ],
      "metadata": {
        "id": "blzILIiopx8K"
      }
    },
    {
      "cell_type": "code",
      "execution_count": 3,
      "metadata": {
        "id": "JYfCIHvfgChf"
      },
      "outputs": [],
      "source": [
        "train_transforms, test_transforms = get_data_transforms()\n",
        "train_loader, test_loader = get_data_loaders(512, train_transforms, test_transforms)\n"
      ]
    },
    {
      "cell_type": "markdown",
      "source": [
        "Chek if GPU is present otherwise use cpu (In notebook settings GPU is selected).\n",
        "Get the train data, test data transofmed for the model and model from another file containing neural network layers.\n",
        "and call training and testing apis for 20 times(epoch)"
      ],
      "metadata": {
        "id": "nYymvUfBqBZX"
      }
    },
    {
      "cell_type": "code",
      "source": [
        "device = torch.device('cuda' if torch.cuda.is_available() else 'cpu')\n",
        "model = Net().to(device)\n",
        "optimizer, scheduler = get_optimizer(model)\n",
        "criterion = get_criterion()\n",
        "\n",
        "num_epochs = 20\n",
        "\n",
        "for epoch in range(1, num_epochs+1):\n",
        "    print(f'Epoch {epoch}')\n",
        "    train_loss, train_acc = train(model, device, train_loader, optimizer, criterion)\n",
        "    test_loss, test_acc = test(model, device, test_loader, criterion)\n",
        "    scheduler.step()\n",
        "\n",
        "    print(f'Train Loss: {train_loss:.4f}, Train Acc: {train_acc:.4f}')\n",
        "    print(f'Test Loss: {test_loss:.4f}, Test Acc: {test_acc:.4f}')"
      ],
      "metadata": {
        "id": "SIj35xmtpi7L",
        "outputId": "90678ef4-1183-4e0f-d796-8f17e43e6de1",
        "colab": {
          "base_uri": "https://localhost:8080/"
        }
      },
      "execution_count": 4,
      "outputs": [
        {
          "output_type": "stream",
          "name": "stdout",
          "text": [
            "Adjusting learning rate of group 0 to 1.0010e+01.\n",
            "Epoch 1\n"
          ]
        },
        {
          "output_type": "stream",
          "name": "stderr",
          "text": [
            "Train: Loss=nan Batch_id=117 Accuracy=9.87: 100%|██████████| 118/118 [00:20<00:00,  5.84it/s]\n"
          ]
        },
        {
          "output_type": "stream",
          "name": "stdout",
          "text": [
            "Adjusting learning rate of group 0 to 1.0010e+01.\n",
            "Train Loss: nan, Train Acc: 0.0987\n",
            "Test Loss: nan, Test Acc: 0.0980\n",
            "Epoch 2\n"
          ]
        },
        {
          "output_type": "stream",
          "name": "stderr",
          "text": [
            "Train: Loss=nan Batch_id=117 Accuracy=9.87: 100%|██████████| 118/118 [00:20<00:00,  5.73it/s]\n"
          ]
        },
        {
          "output_type": "stream",
          "name": "stdout",
          "text": [
            "Adjusting learning rate of group 0 to 1.0010e+01.\n",
            "Train Loss: nan, Train Acc: 0.0987\n",
            "Test Loss: nan, Test Acc: 0.0980\n",
            "Epoch 3\n"
          ]
        },
        {
          "output_type": "stream",
          "name": "stderr",
          "text": [
            "Train: Loss=nan Batch_id=117 Accuracy=9.87: 100%|██████████| 118/118 [00:19<00:00,  6.09it/s]\n"
          ]
        },
        {
          "output_type": "stream",
          "name": "stdout",
          "text": [
            "Adjusting learning rate of group 0 to 1.0010e+01.\n",
            "Train Loss: nan, Train Acc: 0.0987\n",
            "Test Loss: nan, Test Acc: 0.0980\n",
            "Epoch 4\n"
          ]
        },
        {
          "output_type": "stream",
          "name": "stderr",
          "text": [
            "Train: Loss=nan Batch_id=117 Accuracy=9.87: 100%|██████████| 118/118 [00:19<00:00,  5.95it/s]\n"
          ]
        },
        {
          "output_type": "stream",
          "name": "stdout",
          "text": [
            "Adjusting learning rate of group 0 to 1.0010e+01.\n",
            "Train Loss: nan, Train Acc: 0.0987\n",
            "Test Loss: nan, Test Acc: 0.0980\n",
            "Epoch 5\n"
          ]
        },
        {
          "output_type": "stream",
          "name": "stderr",
          "text": [
            "Train: Loss=nan Batch_id=117 Accuracy=9.87: 100%|██████████| 118/118 [00:20<00:00,  5.68it/s]\n"
          ]
        },
        {
          "output_type": "stream",
          "name": "stdout",
          "text": [
            "Adjusting learning rate of group 0 to 1.0010e+01.\n",
            "Train Loss: nan, Train Acc: 0.0987\n",
            "Test Loss: nan, Test Acc: 0.0980\n",
            "Epoch 6\n"
          ]
        },
        {
          "output_type": "stream",
          "name": "stderr",
          "text": [
            "Train: Loss=nan Batch_id=117 Accuracy=9.87: 100%|██████████| 118/118 [00:20<00:00,  5.67it/s]\n"
          ]
        },
        {
          "output_type": "stream",
          "name": "stdout",
          "text": [
            "Adjusting learning rate of group 0 to 1.0010e+01.\n",
            "Train Loss: nan, Train Acc: 0.0987\n",
            "Test Loss: nan, Test Acc: 0.0980\n",
            "Epoch 7\n"
          ]
        },
        {
          "output_type": "stream",
          "name": "stderr",
          "text": [
            "Train: Loss=nan Batch_id=117 Accuracy=9.87: 100%|██████████| 118/118 [00:19<00:00,  6.02it/s]\n"
          ]
        },
        {
          "output_type": "stream",
          "name": "stdout",
          "text": [
            "Adjusting learning rate of group 0 to 1.0010e+01.\n",
            "Train Loss: nan, Train Acc: 0.0987\n",
            "Test Loss: nan, Test Acc: 0.0980\n",
            "Epoch 8\n"
          ]
        },
        {
          "output_type": "stream",
          "name": "stderr",
          "text": [
            "Train: Loss=nan Batch_id=117 Accuracy=9.87: 100%|██████████| 118/118 [00:19<00:00,  6.10it/s]\n"
          ]
        },
        {
          "output_type": "stream",
          "name": "stdout",
          "text": [
            "Adjusting learning rate of group 0 to 1.0010e+01.\n",
            "Train Loss: nan, Train Acc: 0.0987\n",
            "Test Loss: nan, Test Acc: 0.0980\n",
            "Epoch 9\n"
          ]
        },
        {
          "output_type": "stream",
          "name": "stderr",
          "text": [
            "Train: Loss=nan Batch_id=117 Accuracy=9.87: 100%|██████████| 118/118 [00:20<00:00,  5.81it/s]\n"
          ]
        },
        {
          "output_type": "stream",
          "name": "stdout",
          "text": [
            "Adjusting learning rate of group 0 to 1.0010e+01.\n",
            "Train Loss: nan, Train Acc: 0.0987\n",
            "Test Loss: nan, Test Acc: 0.0980\n",
            "Epoch 10\n"
          ]
        },
        {
          "output_type": "stream",
          "name": "stderr",
          "text": [
            "Train: Loss=nan Batch_id=117 Accuracy=9.87: 100%|██████████| 118/118 [00:20<00:00,  5.84it/s]\n"
          ]
        },
        {
          "output_type": "stream",
          "name": "stdout",
          "text": [
            "Adjusting learning rate of group 0 to 1.0010e+01.\n",
            "Train Loss: nan, Train Acc: 0.0987\n",
            "Test Loss: nan, Test Acc: 0.0980\n",
            "Epoch 11\n"
          ]
        },
        {
          "output_type": "stream",
          "name": "stderr",
          "text": [
            "Train: Loss=nan Batch_id=117 Accuracy=9.87: 100%|██████████| 118/118 [00:19<00:00,  6.05it/s]\n"
          ]
        },
        {
          "output_type": "stream",
          "name": "stdout",
          "text": [
            "Adjusting learning rate of group 0 to 1.0010e+01.\n",
            "Train Loss: nan, Train Acc: 0.0987\n",
            "Test Loss: nan, Test Acc: 0.0980\n",
            "Epoch 12\n"
          ]
        },
        {
          "output_type": "stream",
          "name": "stderr",
          "text": [
            "Train: Loss=nan Batch_id=117 Accuracy=9.87: 100%|██████████| 118/118 [00:20<00:00,  5.77it/s]\n"
          ]
        },
        {
          "output_type": "stream",
          "name": "stdout",
          "text": [
            "Adjusting learning rate of group 0 to 1.0010e+01.\n",
            "Train Loss: nan, Train Acc: 0.0987\n",
            "Test Loss: nan, Test Acc: 0.0980\n",
            "Epoch 13\n"
          ]
        },
        {
          "output_type": "stream",
          "name": "stderr",
          "text": [
            "Train: Loss=nan Batch_id=117 Accuracy=9.87: 100%|██████████| 118/118 [00:20<00:00,  5.70it/s]\n"
          ]
        },
        {
          "output_type": "stream",
          "name": "stdout",
          "text": [
            "Adjusting learning rate of group 0 to 1.0010e+01.\n",
            "Train Loss: nan, Train Acc: 0.0987\n",
            "Test Loss: nan, Test Acc: 0.0980\n",
            "Epoch 14\n"
          ]
        },
        {
          "output_type": "stream",
          "name": "stderr",
          "text": [
            "Train: Loss=nan Batch_id=117 Accuracy=9.87: 100%|██████████| 118/118 [00:20<00:00,  5.74it/s]\n"
          ]
        },
        {
          "output_type": "stream",
          "name": "stdout",
          "text": [
            "Adjusting learning rate of group 0 to 1.0010e+01.\n",
            "Train Loss: nan, Train Acc: 0.0987\n",
            "Test Loss: nan, Test Acc: 0.0980\n",
            "Epoch 15\n"
          ]
        },
        {
          "output_type": "stream",
          "name": "stderr",
          "text": [
            "Train: Loss=nan Batch_id=117 Accuracy=9.87: 100%|██████████| 118/118 [00:19<00:00,  6.04it/s]\n"
          ]
        },
        {
          "output_type": "stream",
          "name": "stdout",
          "text": [
            "Adjusting learning rate of group 0 to 1.0010e+00.\n",
            "Train Loss: nan, Train Acc: 0.0987\n",
            "Test Loss: nan, Test Acc: 0.0980\n",
            "Epoch 16\n"
          ]
        },
        {
          "output_type": "stream",
          "name": "stderr",
          "text": [
            "Train: Loss=nan Batch_id=117 Accuracy=9.87: 100%|██████████| 118/118 [00:21<00:00,  5.55it/s]\n"
          ]
        },
        {
          "output_type": "stream",
          "name": "stdout",
          "text": [
            "Adjusting learning rate of group 0 to 1.0010e+00.\n",
            "Train Loss: nan, Train Acc: 0.0987\n",
            "Test Loss: nan, Test Acc: 0.0980\n",
            "Epoch 17\n"
          ]
        },
        {
          "output_type": "stream",
          "name": "stderr",
          "text": [
            "Train: Loss=nan Batch_id=117 Accuracy=9.87: 100%|██████████| 118/118 [00:20<00:00,  5.72it/s]\n"
          ]
        },
        {
          "output_type": "stream",
          "name": "stdout",
          "text": [
            "Adjusting learning rate of group 0 to 1.0010e+00.\n",
            "Train Loss: nan, Train Acc: 0.0987\n",
            "Test Loss: nan, Test Acc: 0.0980\n",
            "Epoch 18\n"
          ]
        },
        {
          "output_type": "stream",
          "name": "stderr",
          "text": [
            "Train: Loss=nan Batch_id=117 Accuracy=9.87: 100%|██████████| 118/118 [00:20<00:00,  5.65it/s]\n"
          ]
        },
        {
          "output_type": "stream",
          "name": "stdout",
          "text": [
            "Adjusting learning rate of group 0 to 1.0010e+00.\n",
            "Train Loss: nan, Train Acc: 0.0987\n",
            "Test Loss: nan, Test Acc: 0.0980\n",
            "Epoch 19\n"
          ]
        },
        {
          "output_type": "stream",
          "name": "stderr",
          "text": [
            "Train: Loss=nan Batch_id=117 Accuracy=9.87: 100%|██████████| 118/118 [00:19<00:00,  5.92it/s]\n"
          ]
        },
        {
          "output_type": "stream",
          "name": "stdout",
          "text": [
            "Adjusting learning rate of group 0 to 1.0010e+00.\n",
            "Train Loss: nan, Train Acc: 0.0987\n",
            "Test Loss: nan, Test Acc: 0.0980\n",
            "Epoch 20\n"
          ]
        },
        {
          "output_type": "stream",
          "name": "stderr",
          "text": [
            "Train: Loss=nan Batch_id=117 Accuracy=9.87: 100%|██████████| 118/118 [00:19<00:00,  5.95it/s]\n"
          ]
        },
        {
          "output_type": "stream",
          "name": "stdout",
          "text": [
            "Adjusting learning rate of group 0 to 1.0010e+00.\n",
            "Train Loss: nan, Train Acc: 0.0987\n",
            "Test Loss: nan, Test Acc: 0.0980\n"
          ]
        }
      ]
    },
    {
      "cell_type": "markdown",
      "source": [],
      "metadata": {
        "id": "FRq5avKPq_EF"
      }
    },
    {
      "cell_type": "code",
      "source": [
        "import matplotlib.pyplot as plt\n",
        "\n",
        "fig, axs = plt.subplots(2,2,figsize=(15,10))\n",
        "axs[0, 0].plot(train_loss)\n",
        "axs[0, 0].set_title(\"Training Loss\")\n",
        "axs[1, 0].plot(train_acc)\n",
        "axs[1, 0].set_title(\"Training Accuracy\")\n",
        "axs[0, 1].plot(test_loss)\n",
        "axs[0, 1].set_title(\"Test Loss\")\n",
        "axs[1, 1].plot(test_acc)\n",
        "axs[1, 1].set_title(\"Test Accuracy\")"
      ],
      "metadata": {
        "id": "mJxV5sx2q_aX",
        "outputId": "b8d9d6a0-a61e-41e7-bf11-d79bd0b5f287",
        "colab": {
          "base_uri": "https://localhost:8080/",
          "height": 704
        }
      },
      "execution_count": 9,
      "outputs": [
        {
          "output_type": "execute_result",
          "data": {
            "text/plain": [
              "Text(0.5, 1.0, 'Test Accuracy')"
            ]
          },
          "metadata": {},
          "execution_count": 9
        },
        {
          "output_type": "display_data",
          "data": {
            "text/plain": [
              "<Figure size 1500x1000 with 4 Axes>"
            ],
            "image/png": "[encoded data removed]"
          },
          "metadata": {}
        }
      ]
    },
    {
      "cell_type": "markdown",
      "source": [],
      "metadata": {
        "id": "nPzezdDbrCE7"
      }
    },
    {
      "cell_type": "code",
      "source": [
        "!pip install torchsummary\n",
        "from torchsummary import summary\n",
        "summary(model, input_size=(1, 28, 28))"
      ],
      "metadata": {
        "id": "bK5wkPY_rCSG",
        "outputId": "401f40b0-e8a8-442c-b386-087160d31e39",
        "colab": {
          "base_uri": "https://localhost:8080/"
        }
      },
      "execution_count": 8,
      "outputs": [
        {
          "output_type": "stream",
          "name": "stdout",
          "text": [
            "Requirement already satisfied: torchsummary in /usr/local/lib/python3.10/dist-packages (1.5.1)\n",
            "----------------------------------------------------------------\n",
            "        Layer (type)               Output Shape         Param #\n",
            "================================================================\n",
            "            Conv2d-1           [-1, 32, 26, 26]             320\n",
            "            Conv2d-2           [-1, 64, 24, 24]          18,496\n",
            "            Conv2d-3          [-1, 128, 10, 10]          73,856\n",
            "            Conv2d-4            [-1, 256, 8, 8]         295,168\n",
            "            Linear-5                   [-1, 50]         204,850\n",
            "            Linear-6                   [-1, 10]             510\n",
            "================================================================\n",
            "Total params: 593,200\n",
            "Trainable params: 593,200\n",
            "Non-trainable params: 0\n",
            "----------------------------------------------------------------\n",
            "Input size (MB): 0.00\n",
            "Forward/backward pass size (MB): 0.67\n",
            "Params size (MB): 2.26\n",
            "Estimated Total Size (MB): 2.94\n",
            "----------------------------------------------------------------\n"
          ]
        }
      ]
    }
  ],
  "metadata": {
    "language_info": {
      "name": "python"
    },
    "colab": {
      "provenance": [],
      "gpuType": "T4",
      "include_colab_link": true
    },
    "kernelspec": {
      "name": "python3",
      "display_name": "Python 3"
    },
    "accelerator": "GPU"
  },
  "nbformat": 4,
  "nbformat_minor": 0
}